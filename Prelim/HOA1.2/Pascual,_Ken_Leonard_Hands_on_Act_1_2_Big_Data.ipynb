{
  "nbformat": 4,
  "nbformat_minor": 0,
  "metadata": {
    "colab": {
      "provenance": []
    },
    "kernelspec": {
      "name": "python3",
      "display_name": "Python 3"
    },
    "language_info": {
      "name": "python"
    }
  },
  "cells": [
    {
      "cell_type": "markdown",
      "source": [
        "Technological Institute of the Philippines | Quezon City - Computer Engineering\n",
        "--- | ---\n",
        "Course Code: | CPE 032\n",
        "Code Title: | Big Data Engineering\n",
        "1st Semester | AY 2025-2026\n",
        "<hr> | <hr>\n",
        "<u>**Hands-on Activity 1.2**</u> | <u>**Advance Dataframe Operations**</u>\n",
        "**Name** | Pascual, Ken Leonard\n",
        "**Section** | CPE31S3\n",
        "**Date Performed**: 12 August 2025  |\n",
        "**Date Submitted**: 12 August 2025|\n",
        "**Instructor**: | Engr. Robin Valenzuela\n",
        "<hr> | <hr>"
      ],
      "metadata": {
        "id": "Ejo8JFRttAOG"
      }
    },
    {
      "cell_type": "markdown",
      "source": [
        "#Procedure\n"
      ],
      "metadata": {
        "id": "fSRiOJ3FMzz7"
      }
    },
    {
      "cell_type": "code",
      "source": [
        "from pyspark.sql import SparkSession\n",
        "spark = SparkSession.builder.appName(\"AdvancedDFOps\").getOrCreate()"
      ],
      "metadata": {
        "id": "ClK0C7u086RN"
      },
      "execution_count": null,
      "outputs": []
    },
    {
      "cell_type": "markdown",
      "source": [
        "Upload the online_retail_ii.csv from Kaggle into your Google Drive.\n",
        "\n",
        "Mount Google Drive in Colab and read the CSV:\n"
      ],
      "metadata": {
        "id": "kX0VAJjC-hbL"
      }
    },
    {
      "cell_type": "code",
      "source": [
        "!ls \"/content/drive/My Drive/SCHOOLFILES/CPE31/CPE032/HOA1.2\"\n"
      ],
      "metadata": {
        "id": "nYdspT9puDLp",
        "outputId": "1b7884c7-0458-40dc-c6fd-a3184bfb98f8",
        "colab": {
          "base_uri": "https://localhost:8080/"
        }
      },
      "execution_count": 33,
      "outputs": [
        {
          "output_type": "stream",
          "name": "stdout",
          "text": [
            " Hands-on-Activity-1.2.pdf  'Pascual, Ken Leonard_Hands-on-Act-1.2-Big Data'\n",
            " online_retail_II.csv\n"
          ]
        }
      ]
    },
    {
      "cell_type": "code",
      "source": [
        "from google.colab import drive\n",
        "drive.mount('/content/drive')\n",
        "retail_df = spark.read.csv(\"/content/drive/MyDrive/SCHOOLFILES/CPE31/CPE032/HOA1.2/online_retail_II.csv\", header=True, inferSchema=True)\n",
        "retail_df.printSchema()"
      ],
      "metadata": {
        "colab": {
          "base_uri": "https://localhost:8080/"
        },
        "id": "BKNd1ZjW9FJt",
        "outputId": "f264fb6e-6629-4715-9fc7-60ffcbce68ef"
      },
      "execution_count": 14,
      "outputs": [
        {
          "output_type": "stream",
          "name": "stdout",
          "text": [
            "Drive already mounted at /content/drive; to attempt to forcibly remount, call drive.mount(\"/content/drive\", force_remount=True).\n",
            "root\n",
            " |-- Invoice: string (nullable = true)\n",
            " |-- StockCode: string (nullable = true)\n",
            " |-- Description: string (nullable = true)\n",
            " |-- Quantity: integer (nullable = true)\n",
            " |-- InvoiceDate: timestamp (nullable = true)\n",
            " |-- Price: double (nullable = true)\n",
            " |-- Customer ID: double (nullable = true)\n",
            " |-- Country: string (nullable = true)\n",
            "\n"
          ]
        }
      ]
    },
    {
      "cell_type": "markdown",
      "source": [
        "1. Merge data from two years of sales into a single DataFrame.\n"
      ],
      "metadata": {
        "id": "5YDafTUODXgv"
      }
    },
    {
      "cell_type": "code",
      "source": [
        "\"\"\"\n",
        "The dataframe already contains merged data from two years of sales\n",
        "\"\"\"\n",
        "retail_df.show(5)"
      ],
      "metadata": {
        "colab": {
          "base_uri": "https://localhost:8080/"
        },
        "id": "f_OCQ9sJgtdg",
        "outputId": "9e9e1a3b-dad6-48fc-c866-054790d27c1d"
      },
      "execution_count": 15,
      "outputs": [
        {
          "output_type": "stream",
          "name": "stdout",
          "text": [
            "+-------+---------+--------------------+--------+-------------------+-----+-----------+--------------+\n",
            "|Invoice|StockCode|         Description|Quantity|        InvoiceDate|Price|Customer ID|       Country|\n",
            "+-------+---------+--------------------+--------+-------------------+-----+-----------+--------------+\n",
            "| 489434|    85048|15CM CHRISTMAS GL...|      12|2009-12-01 07:45:00| 6.95|    13085.0|United Kingdom|\n",
            "| 489434|   79323P|  PINK CHERRY LIGHTS|      12|2009-12-01 07:45:00| 6.75|    13085.0|United Kingdom|\n",
            "| 489434|   79323W| WHITE CHERRY LIGHTS|      12|2009-12-01 07:45:00| 6.75|    13085.0|United Kingdom|\n",
            "| 489434|    22041|\"RECORD FRAME 7\"\"...|      48|2009-12-01 07:45:00|  2.1|    13085.0|United Kingdom|\n",
            "| 489434|    21232|STRAWBERRY CERAMI...|      24|2009-12-01 07:45:00| 1.25|    13085.0|United Kingdom|\n",
            "+-------+---------+--------------------+--------+-------------------+-----+-----------+--------------+\n",
            "only showing top 5 rows\n",
            "\n"
          ]
        }
      ]
    },
    {
      "cell_type": "markdown",
      "source": [
        "2. First, split the dataset by year:\n"
      ],
      "metadata": {
        "id": "2OvHJbJKwDjr"
      }
    },
    {
      "cell_type": "code",
      "source": [
        "from pyspark.sql.functions import year\n",
        "\n",
        "\n",
        "retail_df = retail_df.withColumn(\"Year\", year(\"InvoiceDate\"))\n",
        "\n",
        "# Split into separate DataFrames by year\n",
        "retail_2009 = retail_df.filter(retail_df.Year == 2009)\n",
        "retail_2010 = retail_df.filter(retail_df.Year == 2010)\n",
        "retail_2011 = retail_df.filter(retail_df.Year == 2011)"
      ],
      "metadata": {
        "id": "j9e-RpMwwoOH"
      },
      "execution_count": 19,
      "outputs": []
    },
    {
      "cell_type": "code",
      "source": [
        "#2009\n",
        "retail_2009.show(5)"
      ],
      "metadata": {
        "colab": {
          "base_uri": "https://localhost:8080/"
        },
        "id": "YB35wlXrxKPb",
        "outputId": "7a78e08a-9c5f-49e7-c9cc-35113e0bb2f2"
      },
      "execution_count": 18,
      "outputs": [
        {
          "output_type": "stream",
          "name": "stdout",
          "text": [
            "+-------+---------+--------------------+--------+-------------------+-----+-----------+--------------+----+\n",
            "|Invoice|StockCode|         Description|Quantity|        InvoiceDate|Price|Customer ID|       Country|Year|\n",
            "+-------+---------+--------------------+--------+-------------------+-----+-----------+--------------+----+\n",
            "| 489434|    85048|15CM CHRISTMAS GL...|      12|2009-12-01 07:45:00| 6.95|    13085.0|United Kingdom|2009|\n",
            "| 489434|   79323P|  PINK CHERRY LIGHTS|      12|2009-12-01 07:45:00| 6.75|    13085.0|United Kingdom|2009|\n",
            "| 489434|   79323W| WHITE CHERRY LIGHTS|      12|2009-12-01 07:45:00| 6.75|    13085.0|United Kingdom|2009|\n",
            "| 489434|    22041|\"RECORD FRAME 7\"\"...|      48|2009-12-01 07:45:00|  2.1|    13085.0|United Kingdom|2009|\n",
            "| 489434|    21232|STRAWBERRY CERAMI...|      24|2009-12-01 07:45:00| 1.25|    13085.0|United Kingdom|2009|\n",
            "+-------+---------+--------------------+--------+-------------------+-----+-----------+--------------+----+\n",
            "only showing top 5 rows\n",
            "\n"
          ]
        }
      ]
    },
    {
      "cell_type": "code",
      "source": [
        "#2010\n",
        "retail_2010.show(5)"
      ],
      "metadata": {
        "colab": {
          "base_uri": "https://localhost:8080/"
        },
        "id": "H5hrdMpjxLMo",
        "outputId": "d3faf61c-63ba-4515-feb3-689fb600b0ed"
      },
      "execution_count": 20,
      "outputs": [
        {
          "output_type": "stream",
          "name": "stdout",
          "text": [
            "+-------+---------+--------------------+--------+-------------------+-----+-----------+--------------+----+\n",
            "|Invoice|StockCode|         Description|Quantity|        InvoiceDate|Price|Customer ID|       Country|Year|\n",
            "+-------+---------+--------------------+--------+-------------------+-----+-----------+--------------+----+\n",
            "| 493410|  TEST001|This is a test pr...|       5|2010-01-04 09:24:00|  4.5|    12346.0|United Kingdom|2010|\n",
            "|C493411|    21539|RETRO SPOTS BUTTE...|      -1|2010-01-04 09:43:00| 4.25|    14590.0|United Kingdom|2010|\n",
            "| 493412|  TEST001|This is a test pr...|       5|2010-01-04 09:53:00|  4.5|    12346.0|United Kingdom|2010|\n",
            "| 493413|    21724|PANDA AND BUNNIES...|       1|2010-01-04 09:54:00| 0.85|       NULL|United Kingdom|2010|\n",
            "| 493413|    84578|ELEPHANT TOY WITH...|       1|2010-01-04 09:54:00| 3.75|       NULL|United Kingdom|2010|\n",
            "+-------+---------+--------------------+--------+-------------------+-----+-----------+--------------+----+\n",
            "only showing top 5 rows\n",
            "\n"
          ]
        }
      ]
    },
    {
      "cell_type": "code",
      "source": [
        "#2011\n",
        "retail_2011.show(5)"
      ],
      "metadata": {
        "colab": {
          "base_uri": "https://localhost:8080/"
        },
        "id": "mudpng7HxSyC",
        "outputId": "738d0613-89da-4f90-cbe6-973685520ad2"
      },
      "execution_count": 21,
      "outputs": [
        {
          "output_type": "stream",
          "name": "stdout",
          "text": [
            "+-------+---------+--------------------+--------+-------------------+-----+-----------+--------------+----+\n",
            "|Invoice|StockCode|         Description|Quantity|        InvoiceDate|Price|Customer ID|       Country|Year|\n",
            "+-------+---------+--------------------+--------+-------------------+-----+-----------+--------------+----+\n",
            "| 539993|    22386|JUMBO BAG PINK PO...|      10|2011-01-04 10:00:00| 1.95|    13313.0|United Kingdom|2011|\n",
            "| 539993|    21499|  BLUE POLKADOT WRAP|      25|2011-01-04 10:00:00| 0.42|    13313.0|United Kingdom|2011|\n",
            "| 539993|    21498| RED RETROSPOT WRAP |      25|2011-01-04 10:00:00| 0.42|    13313.0|United Kingdom|2011|\n",
            "| 539993|    22379|RECYCLING BAG RET...|       5|2011-01-04 10:00:00|  2.1|    13313.0|United Kingdom|2011|\n",
            "| 539993|    20718|RED RETROSPOT SHO...|      10|2011-01-04 10:00:00| 1.25|    13313.0|United Kingdom|2011|\n",
            "+-------+---------+--------------------+--------+-------------------+-----+-----------+--------------+----+\n",
            "only showing top 5 rows\n",
            "\n"
          ]
        }
      ]
    },
    {
      "cell_type": "markdown",
      "source": [
        "3. Perform a full outer join on the \"Customer ID\" column:"
      ],
      "metadata": {
        "id": "avr1agQWwEzQ"
      }
    },
    {
      "cell_type": "code",
      "source": [
        "from pyspark.sql.functions import year, col\n",
        "\n",
        "df_2009 = retail_df.filter(year(col(\"InvoiceDate\")) == 2009)\n",
        "df_2010 = retail_df.filter(year(col(\"InvoiceDate\")) == 2010)\n",
        "\n",
        "# Full outer join on Customer ID\n",
        "\n",
        "joined_df = df_2009.join(df_2010, on=[\"Customer ID\"], how=\"full_outer\")\n",
        "# Keep only one \"Customer ID\"\n",
        "\n"
      ],
      "metadata": {
        "id": "85U_ae0S-eR-"
      },
      "execution_count": 22,
      "outputs": []
    },
    {
      "cell_type": "code",
      "source": [
        "df_2009.show(5)"
      ],
      "metadata": {
        "colab": {
          "base_uri": "https://localhost:8080/"
        },
        "id": "XTC1v2tJL0ce",
        "outputId": "90c5650d-fc67-4280-a1e7-c73a9f1ef10f"
      },
      "execution_count": 85,
      "outputs": [
        {
          "output_type": "stream",
          "name": "stdout",
          "text": [
            "+-------+---------+--------------------+--------+-------------------+-----+-----------+--------------+----+\n",
            "|Invoice|StockCode|         Description|Quantity|        InvoiceDate|Price|Customer ID|       Country|Year|\n",
            "+-------+---------+--------------------+--------+-------------------+-----+-----------+--------------+----+\n",
            "| 489434|    85048|15CM CHRISTMAS GL...|      12|2009-12-01 07:45:00| 6.95|    13085.0|United Kingdom|2009|\n",
            "| 489434|   79323P|  PINK CHERRY LIGHTS|      12|2009-12-01 07:45:00| 6.75|    13085.0|United Kingdom|2009|\n",
            "| 489434|   79323W| WHITE CHERRY LIGHTS|      12|2009-12-01 07:45:00| 6.75|    13085.0|United Kingdom|2009|\n",
            "| 489434|    22041|\"RECORD FRAME 7\"\"...|      48|2009-12-01 07:45:00|  2.1|    13085.0|United Kingdom|2009|\n",
            "| 489434|    21232|STRAWBERRY CERAMI...|      24|2009-12-01 07:45:00| 1.25|    13085.0|United Kingdom|2009|\n",
            "+-------+---------+--------------------+--------+-------------------+-----+-----------+--------------+----+\n",
            "only showing top 5 rows\n",
            "\n"
          ]
        }
      ]
    },
    {
      "cell_type": "code",
      "source": [
        "df_2010.show(5)"
      ],
      "metadata": {
        "colab": {
          "base_uri": "https://localhost:8080/"
        },
        "id": "Awv9T_RvL22s",
        "outputId": "637b300d-113f-416c-d774-ee1835db0ee5"
      },
      "execution_count": 84,
      "outputs": [
        {
          "output_type": "stream",
          "name": "stdout",
          "text": [
            "+-------+---------+--------------------+--------+-------------------+-----+-----------+--------------+----+\n",
            "|Invoice|StockCode|         Description|Quantity|        InvoiceDate|Price|Customer ID|       Country|Year|\n",
            "+-------+---------+--------------------+--------+-------------------+-----+-----------+--------------+----+\n",
            "| 493410|  TEST001|This is a test pr...|       5|2010-01-04 09:24:00|  4.5|    12346.0|United Kingdom|2010|\n",
            "|C493411|    21539|RETRO SPOTS BUTTE...|      -1|2010-01-04 09:43:00| 4.25|    14590.0|United Kingdom|2010|\n",
            "| 493412|  TEST001|This is a test pr...|       5|2010-01-04 09:53:00|  4.5|    12346.0|United Kingdom|2010|\n",
            "| 493413|    21724|PANDA AND BUNNIES...|       1|2010-01-04 09:54:00| 0.85|       NULL|United Kingdom|2010|\n",
            "| 493413|    84578|ELEPHANT TOY WITH...|       1|2010-01-04 09:54:00| 3.75|       NULL|United Kingdom|2010|\n",
            "+-------+---------+--------------------+--------+-------------------+-----+-----------+--------------+----+\n",
            "only showing top 5 rows\n",
            "\n"
          ]
        }
      ]
    },
    {
      "cell_type": "markdown",
      "source": [
        "Union Operations: A union stacks DataFrames vertically but only works if their schemas match exactly in column names, order, and data types."
      ],
      "metadata": {
        "id": "rf7by6s5LY4f"
      }
    },
    {
      "cell_type": "code",
      "source": [
        "union_df = df_2009.union(df_2010)\n",
        "union_df.show()\n"
      ],
      "metadata": {
        "id": "-wKPC4v6_6Oe",
        "colab": {
          "base_uri": "https://localhost:8080/"
        },
        "outputId": "c8487f19-7d95-496b-8d2c-92751707173e"
      },
      "execution_count": 86,
      "outputs": [
        {
          "output_type": "stream",
          "name": "stdout",
          "text": [
            "+-------+---------+--------------------+--------+-------------------+-----+-----------+--------------+----+\n",
            "|Invoice|StockCode|         Description|Quantity|        InvoiceDate|Price|Customer ID|       Country|Year|\n",
            "+-------+---------+--------------------+--------+-------------------+-----+-----------+--------------+----+\n",
            "| 489434|    85048|15CM CHRISTMAS GL...|      12|2009-12-01 07:45:00| 6.95|    13085.0|United Kingdom|2009|\n",
            "| 489434|   79323P|  PINK CHERRY LIGHTS|      12|2009-12-01 07:45:00| 6.75|    13085.0|United Kingdom|2009|\n",
            "| 489434|   79323W| WHITE CHERRY LIGHTS|      12|2009-12-01 07:45:00| 6.75|    13085.0|United Kingdom|2009|\n",
            "| 489434|    22041|\"RECORD FRAME 7\"\"...|      48|2009-12-01 07:45:00|  2.1|    13085.0|United Kingdom|2009|\n",
            "| 489434|    21232|STRAWBERRY CERAMI...|      24|2009-12-01 07:45:00| 1.25|    13085.0|United Kingdom|2009|\n",
            "| 489434|    22064|PINK DOUGHNUT TRI...|      24|2009-12-01 07:45:00| 1.65|    13085.0|United Kingdom|2009|\n",
            "| 489434|    21871| SAVE THE PLANET MUG|      24|2009-12-01 07:45:00| 1.25|    13085.0|United Kingdom|2009|\n",
            "| 489434|    21523|FANCY FONT HOME S...|      10|2009-12-01 07:45:00| 5.95|    13085.0|United Kingdom|2009|\n",
            "| 489435|    22350|           CAT BOWL |      12|2009-12-01 07:46:00| 2.55|    13085.0|United Kingdom|2009|\n",
            "| 489435|    22349|DOG BOWL , CHASIN...|      12|2009-12-01 07:46:00| 3.75|    13085.0|United Kingdom|2009|\n",
            "| 489435|    22195|HEART MEASURING S...|      24|2009-12-01 07:46:00| 1.65|    13085.0|United Kingdom|2009|\n",
            "| 489435|    22353|LUNCHBOX WITH CUT...|      12|2009-12-01 07:46:00| 2.55|    13085.0|United Kingdom|2009|\n",
            "| 489436|   48173C|DOOR MAT BLACK FL...|      10|2009-12-01 09:06:00| 5.95|    13078.0|United Kingdom|2009|\n",
            "| 489436|    21755|LOVE BUILDING BLO...|      18|2009-12-01 09:06:00| 5.45|    13078.0|United Kingdom|2009|\n",
            "| 489436|    21754|HOME BUILDING BLO...|       3|2009-12-01 09:06:00| 5.95|    13078.0|United Kingdom|2009|\n",
            "| 489436|    84879|ASSORTED COLOUR B...|      16|2009-12-01 09:06:00| 1.69|    13078.0|United Kingdom|2009|\n",
            "| 489436|    22119| PEACE WOODEN BLO...|       3|2009-12-01 09:06:00| 6.95|    13078.0|United Kingdom|2009|\n",
            "| 489436|    22142|CHRISTMAS CRAFT W...|      12|2009-12-01 09:06:00| 1.45|    13078.0|United Kingdom|2009|\n",
            "| 489436|    22296|HEART IVORY TRELL...|      12|2009-12-01 09:06:00| 1.65|    13078.0|United Kingdom|2009|\n",
            "| 489436|    22295|HEART FILIGREE DO...|      12|2009-12-01 09:06:00| 1.65|    13078.0|United Kingdom|2009|\n",
            "+-------+---------+--------------------+--------+-------------------+-----+-----------+--------------+----+\n",
            "only showing top 20 rows\n",
            "\n"
          ]
        }
      ]
    },
    {
      "cell_type": "markdown",
      "source": [
        "Advanced Column Operations: Functions like withColumn, year, and struct allow creation of new calculated fields and nested structures without altering the original data."
      ],
      "metadata": {
        "id": "AyOut60aLZdS"
      }
    },
    {
      "cell_type": "code",
      "source": [
        "from pyspark.sql.functions import month, struct\n",
        "\n",
        "retail_df = retail_df.withColumn(\"TotalPrice\", col(\"Quantity\") * col(\"Price\")) \\\n",
        "                     .withColumn(\"Year\", year(col(\"InvoiceDate\"))) \\\n",
        "                     .withColumn(\"Month\", month(col(\"InvoiceDate\"))) \\\n",
        "                     .withColumn(\"ProductInfo\", struct(col(\"StockCode\"), col(\"Description\")))\n",
        "retail_df.show(5)"
      ],
      "metadata": {
        "id": "l70jc4sN_-33",
        "colab": {
          "base_uri": "https://localhost:8080/"
        },
        "outputId": "cfd4c121-8ca1-45b4-d1f9-1947ca9499d2"
      },
      "execution_count": 88,
      "outputs": [
        {
          "output_type": "stream",
          "name": "stdout",
          "text": [
            "+-------+---------+--------------------+--------+-------------------+-----+-----------+--------------+------------------+----+-----+--------------------+\n",
            "|Invoice|StockCode|         Description|Quantity|        InvoiceDate|Price|Customer ID|       Country|        TotalPrice|Year|Month|         ProductInfo|\n",
            "+-------+---------+--------------------+--------+-------------------+-----+-----------+--------------+------------------+----+-----+--------------------+\n",
            "| 489434|    85048|15CM CHRISTMAS GL...|      12|2009-12-01 07:45:00| 6.95|    13085.0|United Kingdom|              83.4|2009|   12|{85048, 15CM CHRI...|\n",
            "| 489434|   79323P|  PINK CHERRY LIGHTS|      12|2009-12-01 07:45:00| 6.75|    13085.0|United Kingdom|              81.0|2009|   12|{79323P, PINK CHE...|\n",
            "| 489434|   79323W| WHITE CHERRY LIGHTS|      12|2009-12-01 07:45:00| 6.75|    13085.0|United Kingdom|              81.0|2009|   12|{79323W,  WHITE C...|\n",
            "| 489434|    22041|\"RECORD FRAME 7\"\"...|      48|2009-12-01 07:45:00|  2.1|    13085.0|United Kingdom|100.80000000000001|2009|   12|{22041, \"RECORD F...|\n",
            "| 489434|    21232|STRAWBERRY CERAMI...|      24|2009-12-01 07:45:00| 1.25|    13085.0|United Kingdom|              30.0|2009|   12|{21232, STRAWBERR...|\n",
            "+-------+---------+--------------------+--------+-------------------+-----+-----------+--------------+------------------+----+-----+--------------------+\n",
            "only showing top 5 rows\n",
            "\n"
          ]
        }
      ]
    },
    {
      "cell_type": "markdown",
      "source": [
        "Working with Arrays & Maps: Aggregating values into arrays or maps enables storing complex, multi-value attributes inside a single DataFrame column.\n",
        "\n"
      ],
      "metadata": {
        "id": "7YJYirS3Lc5D"
      }
    },
    {
      "cell_type": "code",
      "source": [
        "from pyspark.sql.functions import collect_list, create_map\n",
        "\n",
        "products_per_customer = retail_df.groupBy(\"Customer ID\") \\\n",
        "    .agg(collect_list(\"Description\").alias(\"ProductsBought\"))\n",
        "\n",
        "maps_per_customer = retail_df.groupBy(\"Customer ID\") \\\n",
        "    .agg(collect_list(\"StockCode\").alias(\"Codes\"),\n",
        "         collect_list(\"Quantity\").alias(\"Quantities\"))\n"
      ],
      "metadata": {
        "id": "1m3a4skIAACR"
      },
      "execution_count": 92,
      "outputs": []
    },
    {
      "cell_type": "code",
      "source": [
        "products_per_customer.show(5)"
      ],
      "metadata": {
        "colab": {
          "base_uri": "https://localhost:8080/"
        },
        "id": "RMRx27RW8Bcf",
        "outputId": "8b5dd59a-d743-4973-ebd2-0657004fe6e4"
      },
      "execution_count": 93,
      "outputs": [
        {
          "output_type": "stream",
          "name": "stdout",
          "text": [
            "+-----------+--------------------+\n",
            "|Customer ID|      ProductsBought|\n",
            "+-----------+--------------------+\n",
            "|       NULL|[invcd as 84879?,...|\n",
            "|    12351.0|[WRAP MONSTER FUN...|\n",
            "|    12354.0|[JUMBO BAG ALPHAB...|\n",
            "|    12356.0|[SET OF 36 DOILIE...|\n",
            "|    12358.0|[MUSHROOM BLUE HO...|\n",
            "+-----------+--------------------+\n",
            "only showing top 5 rows\n",
            "\n"
          ]
        }
      ]
    },
    {
      "cell_type": "code",
      "source": [
        "maps_per_customer.show(5)"
      ],
      "metadata": {
        "colab": {
          "base_uri": "https://localhost:8080/"
        },
        "id": "q1IJvUmT8DV8",
        "outputId": "d5e8b3b2-a605-45ef-a546-d10cf9a08f7b"
      },
      "execution_count": 95,
      "outputs": [
        {
          "output_type": "stream",
          "name": "stdout",
          "text": [
            "+-----------+--------------------+--------------------+\n",
            "|Customer ID|               Codes|          Quantities|\n",
            "+-----------+--------------------+--------------------+\n",
            "|       NULL|[84292, 18010, 21...|[17, -770, -720, ...|\n",
            "|    12351.0|[22707, 22706, 22...|[25, 25, 25, 25, ...|\n",
            "|    12354.0|[23201, 23204, 23...|[10, 10, 10, 4, 4...|\n",
            "|    12356.0|[22416, 22938, 22...|[12, 12, 12, 8, 9...|\n",
            "|    12358.0|[21482, 21481, 85...|[6, 6, 12, 12, 60...|\n",
            "+-----------+--------------------+--------------------+\n",
            "only showing top 5 rows\n",
            "\n"
          ]
        }
      ]
    },
    {
      "cell_type": "markdown",
      "source": [
        "Aggregations and Analytics: Grouping and using aggregate functions such as sum or window functions enables advanced insights like top customers and time-based trends."
      ],
      "metadata": {
        "id": "vBspjJhOLe0N"
      }
    },
    {
      "cell_type": "code",
      "source": [
        "from pyspark.sql.functions import sum as _sum\n",
        "\n",
        "top_customers = retail_df.groupBy(\"Customer ID\") \\\n",
        "    .agg(_sum(\"TotalPrice\").alias(\"TotalSpent\")) \\\n",
        "    .orderBy(col(\"TotalSpent\").desc()) \\\n",
        "    .limit(5)\n"
      ],
      "metadata": {
        "id": "gkSal_vmABRj"
      },
      "execution_count": 31,
      "outputs": []
    },
    {
      "cell_type": "code",
      "source": [
        "top_customers.show(5)\n"
      ],
      "metadata": {
        "colab": {
          "base_uri": "https://localhost:8080/"
        },
        "id": "i6IF2wIFLx8v",
        "outputId": "e79e3a60-8170-4426-cf11-3293635802c3"
      },
      "execution_count": 96,
      "outputs": [
        {
          "output_type": "stream",
          "name": "stdout",
          "text": [
            "+-----------+------------------+\n",
            "|Customer ID|        TotalSpent|\n",
            "+-----------+------------------+\n",
            "|       NULL|2638958.1799997296|\n",
            "|    18102.0| 598215.2200000001|\n",
            "|    14646.0| 523342.0700000004|\n",
            "|    14156.0|296564.69000000024|\n",
            "|    14911.0|  270248.529999999|\n",
            "+-----------+------------------+\n",
            "\n"
          ]
        }
      ]
    },
    {
      "cell_type": "markdown",
      "source": [
        "# Supplementary Activity"
      ],
      "metadata": {
        "id": "OtaPK-GzsHRQ"
      }
    },
    {
      "cell_type": "markdown",
      "source": [
        "1. Use the same SparkSession from the main activity — do not create a new one.\n"
      ],
      "metadata": {
        "id": "kGSSaNRcsPQu"
      }
    },
    {
      "cell_type": "markdown",
      "source": [
        "2. Load the dataset into a DataFrame (retail_df) and display its schema to confirm correct column\n",
        "names and types.\n"
      ],
      "metadata": {
        "id": "iapwAjIdsRHm"
      }
    },
    {
      "cell_type": "code",
      "source": [
        "from google.colab import drive\n",
        "drive.mount('/content/drive')\n",
        "retail_df = spark.read.csv(\"/content/drive/MyDrive/SCHOOLFILES/CPE31/CPE032/HOA1.2/online_retail_II.csv\", header=True, inferSchema=True)\n",
        "retail_df.printSchema()"
      ],
      "metadata": {
        "id": "AngajJogscqf",
        "colab": {
          "base_uri": "https://localhost:8080/"
        },
        "outputId": "404174cd-051d-43d8-a666-0adbb9e80127"
      },
      "execution_count": 73,
      "outputs": [
        {
          "output_type": "stream",
          "name": "stdout",
          "text": [
            "Drive already mounted at /content/drive; to attempt to forcibly remount, call drive.mount(\"/content/drive\", force_remount=True).\n",
            "root\n",
            " |-- Invoice: string (nullable = true)\n",
            " |-- StockCode: string (nullable = true)\n",
            " |-- Description: string (nullable = true)\n",
            " |-- Quantity: integer (nullable = true)\n",
            " |-- InvoiceDate: timestamp (nullable = true)\n",
            " |-- Price: double (nullable = true)\n",
            " |-- Customer ID: double (nullable = true)\n",
            " |-- Country: string (nullable = true)\n",
            "\n"
          ]
        }
      ]
    },
    {
      "cell_type": "code",
      "source": [
        "retail_df.count()"
      ],
      "metadata": {
        "colab": {
          "base_uri": "https://localhost:8080/"
        },
        "id": "U9tofR8dykpH",
        "outputId": "c9829c0c-c3e0-430f-8b81-1bccf050fe90"
      },
      "execution_count": 74,
      "outputs": [
        {
          "output_type": "execute_result",
          "data": {
            "text/plain": [
              "1067371"
            ]
          },
          "metadata": {},
          "execution_count": 74
        }
      ]
    },
    {
      "cell_type": "markdown",
      "source": [
        "3. Data Cleaning:\n",
        "* a. 3.1 Remove rows with null in \"Customer ID\", \"Invoice\", or \"Price\".\n",
        "* b. 3.2 Filter out transactions where Quantity or Price is less than or equal to zero.\n",
        "\n"
      ],
      "metadata": {
        "id": "D2VstsGnsTDW"
      }
    },
    {
      "cell_type": "code",
      "source": [
        "from pyspark.sql import Row\n",
        "retail_dropna = retail_df.na.drop()\n",
        "retail_dropna = retail_dropna.filter((col(\"Quantity\") > 0) & (col(\"Price\") > 0))\n",
        "retail_dropna.show(5)"
      ],
      "metadata": {
        "colab": {
          "base_uri": "https://localhost:8080/"
        },
        "id": "I0dOsV17yPWv",
        "outputId": "ea5345a9-c890-43a7-d7a7-d333b9f35142"
      },
      "execution_count": 75,
      "outputs": [
        {
          "output_type": "stream",
          "name": "stdout",
          "text": [
            "+-------+---------+--------------------+--------+-------------------+-----+-----------+--------------+\n",
            "|Invoice|StockCode|         Description|Quantity|        InvoiceDate|Price|Customer ID|       Country|\n",
            "+-------+---------+--------------------+--------+-------------------+-----+-----------+--------------+\n",
            "| 489434|    85048|15CM CHRISTMAS GL...|      12|2009-12-01 07:45:00| 6.95|    13085.0|United Kingdom|\n",
            "| 489434|   79323P|  PINK CHERRY LIGHTS|      12|2009-12-01 07:45:00| 6.75|    13085.0|United Kingdom|\n",
            "| 489434|   79323W| WHITE CHERRY LIGHTS|      12|2009-12-01 07:45:00| 6.75|    13085.0|United Kingdom|\n",
            "| 489434|    22041|\"RECORD FRAME 7\"\"...|      48|2009-12-01 07:45:00|  2.1|    13085.0|United Kingdom|\n",
            "| 489434|    21232|STRAWBERRY CERAMI...|      24|2009-12-01 07:45:00| 1.25|    13085.0|United Kingdom|\n",
            "+-------+---------+--------------------+--------+-------------------+-----+-----------+--------------+\n",
            "only showing top 5 rows\n",
            "\n"
          ]
        }
      ]
    },
    {
      "cell_type": "code",
      "source": [
        "#this should be less than the value output from retail_df.count()\n",
        "retail_dropna.count()"
      ],
      "metadata": {
        "colab": {
          "base_uri": "https://localhost:8080/"
        },
        "id": "SD4mOJ9HyohY",
        "outputId": "ab7e1d88-1f5a-40b7-9f81-66c268ec5232"
      },
      "execution_count": 76,
      "outputs": [
        {
          "output_type": "execute_result",
          "data": {
            "text/plain": [
              "805549"
            ]
          },
          "metadata": {},
          "execution_count": 76
        }
      ]
    },
    {
      "cell_type": "markdown",
      "source": [
        "4. Feature Engineering:\n",
        "* a. 4.1 Create a new column \"TotalPrice\" = Quantity * Price.\n"
      ],
      "metadata": {
        "id": "rmaN3SeLsUKH"
      }
    },
    {
      "cell_type": "code",
      "source": [
        "from pyspark.sql.functions import col, year, month\n",
        "\n",
        "retail_dropna = retail_dropna.withColumn(\"TotalPrice\", col(\"Quantity\") * col(\"Price\"))\n",
        "retail_dropna.show(5)\n"
      ],
      "metadata": {
        "colab": {
          "base_uri": "https://localhost:8080/"
        },
        "id": "SSED8fi0zMWT",
        "outputId": "4c669cde-e65d-434d-cd04-4c1516d5b7e3"
      },
      "execution_count": 77,
      "outputs": [
        {
          "output_type": "stream",
          "name": "stdout",
          "text": [
            "+-------+---------+--------------------+--------+-------------------+-----+-----------+--------------+------------------+\n",
            "|Invoice|StockCode|         Description|Quantity|        InvoiceDate|Price|Customer ID|       Country|        TotalPrice|\n",
            "+-------+---------+--------------------+--------+-------------------+-----+-----------+--------------+------------------+\n",
            "| 489434|    85048|15CM CHRISTMAS GL...|      12|2009-12-01 07:45:00| 6.95|    13085.0|United Kingdom|              83.4|\n",
            "| 489434|   79323P|  PINK CHERRY LIGHTS|      12|2009-12-01 07:45:00| 6.75|    13085.0|United Kingdom|              81.0|\n",
            "| 489434|   79323W| WHITE CHERRY LIGHTS|      12|2009-12-01 07:45:00| 6.75|    13085.0|United Kingdom|              81.0|\n",
            "| 489434|    22041|\"RECORD FRAME 7\"\"...|      48|2009-12-01 07:45:00|  2.1|    13085.0|United Kingdom|100.80000000000001|\n",
            "| 489434|    21232|STRAWBERRY CERAMI...|      24|2009-12-01 07:45:00| 1.25|    13085.0|United Kingdom|              30.0|\n",
            "+-------+---------+--------------------+--------+-------------------+-----+-----------+--------------+------------------+\n",
            "only showing top 5 rows\n",
            "\n"
          ]
        }
      ]
    },
    {
      "cell_type": "markdown",
      "source": [
        "* b. 4.2 Extract \"Year\" and \"Month\" from InvoiceDate.\n"
      ],
      "metadata": {
        "id": "nVzrVCf60aKX"
      }
    },
    {
      "cell_type": "code",
      "source": [
        "retail_dropna = retail_dropna.withColumn(\"Year\", year(\"InvoiceDate\"))\n",
        "retail_dropna = retail_dropna.withColumn(\"Month\", month(\"InvoiceDate\"))\n",
        "retail_dropna.show(5)"
      ],
      "metadata": {
        "colab": {
          "base_uri": "https://localhost:8080/"
        },
        "id": "-ZkiH8Cn0Khq",
        "outputId": "0518483f-2280-4a92-e089-9a89a8e66f09"
      },
      "execution_count": 78,
      "outputs": [
        {
          "output_type": "stream",
          "name": "stdout",
          "text": [
            "+-------+---------+--------------------+--------+-------------------+-----+-----------+--------------+------------------+----+-----+\n",
            "|Invoice|StockCode|         Description|Quantity|        InvoiceDate|Price|Customer ID|       Country|        TotalPrice|Year|Month|\n",
            "+-------+---------+--------------------+--------+-------------------+-----+-----------+--------------+------------------+----+-----+\n",
            "| 489434|    85048|15CM CHRISTMAS GL...|      12|2009-12-01 07:45:00| 6.95|    13085.0|United Kingdom|              83.4|2009|   12|\n",
            "| 489434|   79323P|  PINK CHERRY LIGHTS|      12|2009-12-01 07:45:00| 6.75|    13085.0|United Kingdom|              81.0|2009|   12|\n",
            "| 489434|   79323W| WHITE CHERRY LIGHTS|      12|2009-12-01 07:45:00| 6.75|    13085.0|United Kingdom|              81.0|2009|   12|\n",
            "| 489434|    22041|\"RECORD FRAME 7\"\"...|      48|2009-12-01 07:45:00|  2.1|    13085.0|United Kingdom|100.80000000000001|2009|   12|\n",
            "| 489434|    21232|STRAWBERRY CERAMI...|      24|2009-12-01 07:45:00| 1.25|    13085.0|United Kingdom|              30.0|2009|   12|\n",
            "+-------+---------+--------------------+--------+-------------------+-----+-----------+--------------+------------------+----+-----+\n",
            "only showing top 5 rows\n",
            "\n"
          ]
        }
      ]
    },
    {
      "cell_type": "markdown",
      "source": [
        "5. Segmentation by Spend:\n",
        "   * 5.1 Group by \"Customer ID\" and compute:\n",
        "      1. Total amount spent (sum(TotalPrice)).\n",
        "      2. Number of unique purchases (countDistinct(Invoice))."
      ],
      "metadata": {
        "id": "lvpgg3MPsVL2"
      }
    },
    {
      "cell_type": "code",
      "source": [
        "from pyspark.sql.functions import sum as _sum, countDistinct, when, col\n",
        "\n",
        "# Group by CustomerID, compute total spent and unique purchases\n",
        "customer_spend_df = retail_dropna.groupBy(\"Customer ID\").agg(\n",
        "    _sum(\"TotalPrice\").alias(\"TotalSpent\"),\n",
        "    countDistinct(\"Invoice\").alias(\"UniquePurchases\")\n",
        ")\n",
        "customer_spend_df.show(10)"
      ],
      "metadata": {
        "colab": {
          "base_uri": "https://localhost:8080/"
        },
        "id": "Tf8m089b1It3",
        "outputId": "04e1d3c1-583c-403b-f1a6-714d0dd7817b"
      },
      "execution_count": 97,
      "outputs": [
        {
          "output_type": "stream",
          "name": "stdout",
          "text": [
            "+-----------+------------------+---------------+\n",
            "|Customer ID|        TotalSpent|UniquePurchases|\n",
            "+-----------+------------------+---------------+\n",
            "|    12467.0|132.79999999999998|              1|\n",
            "|    13094.0| 2433.120000000001|             13|\n",
            "|    17884.0|           3072.89|             20|\n",
            "|    17633.0|           2057.39|              7|\n",
            "|    14094.0|335.21999999999997|              1|\n",
            "|    15893.0|305.28000000000003|              1|\n",
            "|    14269.0|            295.73|              1|\n",
            "|    16596.0|            579.63|              4|\n",
            "|    14285.0|3284.4200000000005|              8|\n",
            "|    16916.0|1123.3999999999996|              4|\n",
            "+-----------+------------------+---------------+\n",
            "only showing top 10 rows\n",
            "\n"
          ]
        }
      ]
    },
    {
      "cell_type": "markdown",
      "source": [
        "   * 5.2 Create a new column \"SpendingCategory\":\n",
        "      1. \"High\" if total spent ≥ 5000.\n",
        "      2. \"Medium\" if total spent between 1000 and 4999.\n",
        "      3. \"Low\" if total spent < 1000."
      ],
      "metadata": {
        "id": "mPVTKtby1HU0"
      }
    },
    {
      "cell_type": "code",
      "source": [
        "customer_spend_df = customer_spend_df.withColumn(\"SpendingCategory\",\n",
        "    when(col(\"TotalSpent\") >= 5000, \"High\")\n",
        "    .when((col(\"TotalSpent\") >= 1000) & (col(\"TotalSpent\") < 5000), \"Medium\")\n",
        "    .otherwise(\"Low\")\n",
        ")\n",
        "\n",
        "customer_spend_df.show(10)"
      ],
      "metadata": {
        "colab": {
          "base_uri": "https://localhost:8080/"
        },
        "id": "h2st-vzD3S4o",
        "outputId": "1df85f30-76ab-4772-f83c-ec156c7cdb77"
      },
      "execution_count": 99,
      "outputs": [
        {
          "output_type": "stream",
          "name": "stdout",
          "text": [
            "+-----------+------------------+---------------+----------------+\n",
            "|Customer ID|        TotalSpent|UniquePurchases|SpendingCategory|\n",
            "+-----------+------------------+---------------+----------------+\n",
            "|    12467.0|132.79999999999998|              1|             Low|\n",
            "|    13094.0| 2433.120000000001|             13|          Medium|\n",
            "|    17884.0|           3072.89|             20|          Medium|\n",
            "|    17633.0|           2057.39|              7|          Medium|\n",
            "|    14094.0|335.21999999999997|              1|             Low|\n",
            "|    15893.0|305.28000000000003|              1|             Low|\n",
            "|    14269.0|            295.73|              1|             Low|\n",
            "|    16596.0|            579.63|              4|             Low|\n",
            "|    14285.0|3284.4200000000005|              8|          Medium|\n",
            "|    16916.0|1123.3999999999996|              4|          Medium|\n",
            "+-----------+------------------+---------------+----------------+\n",
            "only showing top 10 rows\n",
            "\n"
          ]
        }
      ]
    },
    {
      "cell_type": "markdown",
      "source": [
        "6. Top Products per Segment: For each \"SpendingCategory\", find the top 3 most purchased products\n",
        "(Description) based on total quantity sold.\n"
      ],
      "metadata": {
        "id": "RGpZo8uzsWhG"
      }
    },
    {
      "cell_type": "code",
      "source": [
        "from pyspark.sql.window import Window\n",
        "from pyspark.sql.functions import rank\n",
        "from pyspark.sql.functions import sum as _sum, desc\n",
        "\n",
        "retail_with_segment = retail_dropna.join(\n",
        "    customer_spend_df.select(\"Customer ID\", \"SpendingCategory\"),\n",
        "    on=\"Customer ID\",\n",
        "    how=\"inner\"\n",
        ")\n",
        "agg_df = retail_with_segment.groupBy(\"SpendingCategory\", \"Description\") \\\n",
        "    .agg(_sum(\"Quantity\").alias(\"TotalQuantity\"))\n",
        "windowSpec = Window.partitionBy(\"SpendingCategory\").orderBy(desc(\"TotalQuantity\"))\n",
        "ranked_df = agg_df.withColumn(\"rank\", rank().over(windowSpec)) \\\n",
        "                  .filter(\"rank <= 3\") \\\n",
        "                  .orderBy(\"SpendingCategory\", \"rank\")\n",
        "ranked_df.show(10, truncate=False)"
      ],
      "metadata": {
        "colab": {
          "base_uri": "https://localhost:8080/"
        },
        "id": "hokWXuBB4AKx",
        "outputId": "58d061a9-f055-4df1-e99a-689510c80c65"
      },
      "execution_count": 103,
      "outputs": [
        {
          "output_type": "stream",
          "name": "stdout",
          "text": [
            "+----------------+----------------------------------+-------------+----+\n",
            "|SpendingCategory|Description                       |TotalQuantity|rank|\n",
            "+----------------+----------------------------------+-------------+----+\n",
            "|High            |WORLD WAR 2 GLIDERS ASSTD DESIGNS |81064        |1   |\n",
            "|High            |PAPER CRAFT , LITTLE BIRDIE       |80995        |2   |\n",
            "|High            |MEDIUM CERAMIC TOP STORAGE JAR    |76938        |3   |\n",
            "|Low             |WHITE HANGING HEART T-LIGHT HOLDER|5663         |1   |\n",
            "|Low             |ASSORTED COLOUR BIRD ORNAMENT     |5596         |2   |\n",
            "|Low             |WORLD WAR 2 GLIDERS ASSTD DESIGNS |5255         |3   |\n",
            "|Medium          |WHITE HANGING HEART T-LIGHT HOLDER|23031        |1   |\n",
            "|Medium          |WORLD WAR 2 GLIDERS ASSTD DESIGNS |22850        |2   |\n",
            "|Medium          |ASSORTED COLOUR BIRD ORNAMENT     |18007        |3   |\n",
            "+----------------+----------------------------------+-------------+----+\n",
            "\n"
          ]
        }
      ]
    },
    {
      "cell_type": "markdown",
      "source": [
        "7. Country-Wise Trends: For \"High\" spenders only, group by \"Country\" and \"Month\" to compute total\n",
        "monthly revenue, then sort by revenue in descending order.\n"
      ],
      "metadata": {
        "id": "p6j96pmEsYkO"
      }
    },
    {
      "cell_type": "code",
      "source": [
        "from pyspark.sql.functions import sum as _sum, desc\n",
        "high_spenders = customer_spend_df.filter(customer_spend_df.SpendingCategory == \"High\") \\\n",
        "    .select(\"Customer ID\")\n",
        "high_spender_data = retail_dropna.join(high_spenders, on=\"Customer ID\", how=\"inner\")\n",
        "country_month_revenue = high_spender_data.groupBy(\"Country\", \"Month\") \\\n",
        "    .agg(_sum(\"TotalPrice\").alias(\"MonthlyRevenue\")) \\\n",
        "    .orderBy(desc(\"MonthlyRevenue\"))\n",
        "country_month_revenue.show(20)"
      ],
      "metadata": {
        "colab": {
          "base_uri": "https://localhost:8080/"
        },
        "id": "aMRrECzd_WGn",
        "outputId": "eab86b65-f5e3-4c96-bedf-2df4217d43a2"
      },
      "execution_count": 105,
      "outputs": [
        {
          "output_type": "stream",
          "name": "stdout",
          "text": [
            "+--------------+-----+------------------+\n",
            "|       Country|Month|    MonthlyRevenue|\n",
            "+--------------+-----+------------------+\n",
            "|United Kingdom|   12|1316294.5299999611|\n",
            "|United Kingdom|   11|1131980.5420000148|\n",
            "|United Kingdom|   10| 971379.4000000211|\n",
            "|United Kingdom|    9| 911588.8200000225|\n",
            "|United Kingdom|    6| 690826.6600000109|\n",
            "|United Kingdom|    8| 669594.8600000055|\n",
            "|United Kingdom|    5| 667010.6400000058|\n",
            "|United Kingdom|    3| 663415.7900000121|\n",
            "|United Kingdom|    7|  655336.480000006|\n",
            "|United Kingdom|    1| 609604.0210000053|\n",
            "|United Kingdom|    4|  563538.952000006|\n",
            "|United Kingdom|    2| 481349.2130000065|\n",
            "|          EIRE|    1| 86626.89999999985|\n",
            "|          EIRE|    9| 77344.62000000008|\n",
            "|          EIRE|    7| 72892.38000000002|\n",
            "|   Netherlands|    9| 69950.06999999998|\n",
            "|          EIRE|   10|          68247.78|\n",
            "|   Netherlands|    8|63600.889999999985|\n",
            "|   Netherlands|   11| 59256.53999999999|\n",
            "|          EIRE|   11|57191.140000000065|\n",
            "+--------------+-----+------------------+\n",
            "only showing top 20 rows\n",
            "\n"
          ]
        }
      ]
    },
    {
      "cell_type": "markdown",
      "source": [
        "8. Save Results: Save both the customer segmentation table and the top products table as separate\n",
        "Parquet files."
      ],
      "metadata": {
        "id": "2Pmq0rDUsZoJ"
      }
    },
    {
      "cell_type": "code",
      "source": [
        "customer_spend_df.write.mode(\"overwrite\").parquet(\"/content/drive/MyDrive/SCHOOLFILES/CPE31/CPE032/HOA1.2/output/customer_segmentation.parquet\")\n"
      ],
      "metadata": {
        "id": "Tw1Ayh2iAIyI"
      },
      "execution_count": 108,
      "outputs": []
    },
    {
      "cell_type": "code",
      "source": [
        "ranked_df.write.mode(\"overwrite\").parquet(\"/content/drive/MyDrive/SCHOOLFILES/CPE31/CPE032/HOA1.2/output/top_products_per_segment.parquet\")\n"
      ],
      "metadata": {
        "id": "7wI7CZSeAJp5"
      },
      "execution_count": 109,
      "outputs": []
    },
    {
      "cell_type": "markdown",
      "source": [
        "[parquet outputs](https://drive.google.com/drive/folders/1vAE6J2L1HrR4yrx_3HpUkiHDEg-Sad7d?usp=sharing)"
      ],
      "metadata": {
        "id": "H8NXyZRFAqcO"
      }
    }
  ]
}
