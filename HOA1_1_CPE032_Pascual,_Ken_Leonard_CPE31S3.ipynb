{
  "nbformat": 4,
  "nbformat_minor": 0,
  "metadata": {
    "colab": {
      "provenance": []
    },
    "kernelspec": {
      "name": "python3",
      "display_name": "Python 3"
    },
    "language_info": {
      "name": "python"
    }
  },
  "cells": [
    {
      "cell_type": "markdown",
      "source": [
        "# HOA 1.1: Setting up your Big Data Environment using PySpark"
      ],
      "metadata": {
        "id": "ObN0-12kw5sd"
      }
    },
    {
      "cell_type": "markdown",
      "source": [
        "## Procedure"
      ],
      "metadata": {
        "id": "lpoT3Gx1xAS0"
      }
    },
    {
      "cell_type": "code",
      "source": [
        "    from google.colab import drive\n",
        "    drive.mount('/content/drive')"
      ],
      "metadata": {
        "colab": {
          "base_uri": "https://localhost:8080/"
        },
        "id": "VwpxTE3FtHHd",
        "outputId": "23ace4cb-5006-44ca-cfd4-b42ccdca801e"
      },
      "execution_count": null,
      "outputs": [
        {
          "output_type": "stream",
          "name": "stdout",
          "text": [
            "Drive already mounted at /content/drive; to attempt to forcibly remount, call drive.mount(\"/content/drive\", force_remount=True).\n"
          ]
        }
      ]
    },
    {
      "cell_type": "code",
      "execution_count": 40,
      "metadata": {
        "colab": {
          "base_uri": "https://localhost:8080/"
        },
        "id": "-4hFjRcOmcWF",
        "outputId": "bec8eff9-5b04-4da4-f891-806a16bc05b3"
      },
      "outputs": [
        {
          "output_type": "stream",
          "name": "stdout",
          "text": [
            "<pyspark.sql.session.SparkSession object at 0x79707c59c790>\n"
          ]
        }
      ],
      "source": [
        "from pyspark.sql import SparkSession\n",
        "my_spark = SparkSession.builder.appName(\"my_spark\").getOrCreate()\n",
        "print(my_spark)\n"
      ]
    },
    {
      "cell_type": "code",
      "source": [
        "path = \"/content/username.csv\"\n",
        "\n",
        "username_df = my_spark.read.csv(path,\n",
        "                                header = True,\n",
        "                                inferSchema = True)\n",
        "username_df.show()\n"
      ],
      "metadata": {
        "colab": {
          "base_uri": "https://localhost:8080/"
        },
        "id": "bGftJw_grFdT",
        "outputId": "834a0a1c-aa99-403b-8612-2f2356fe91d7"
      },
      "execution_count": 27,
      "outputs": [
        {
          "output_type": "stream",
          "name": "stdout",
          "text": [
            "+---------------+----------+----------+---------+\n",
            "|       Username|Identifier|First Name|Last Name|\n",
            "+---------------+----------+----------+---------+\n",
            "|  graylooker123|      1002|    Robert|  Jenkins|\n",
            "|    ironlord982|      1003|     Linux| Cromwell|\n",
            "|  skyrimlord023|      1004| Cassandra|    Ramos|\n",
            "|wannabefortnite|      1005|    Joseph|   Pandas|\n",
            "|    smithSummer|      1006|    Tensor|     Flow|\n",
            "+---------------+----------+----------+---------+\n",
            "\n"
          ]
        }
      ]
    },
    {
      "cell_type": "code",
      "source": [
        "username_df.count()"
      ],
      "metadata": {
        "colab": {
          "base_uri": "https://localhost:8080/"
        },
        "id": "dpk2kqCvvUsF",
        "outputId": "448248d4-bd1b-4d81-ed87-a9eff5530907"
      },
      "execution_count": 30,
      "outputs": [
        {
          "output_type": "execute_result",
          "data": {
            "text/plain": [
              "5"
            ]
          },
          "metadata": {},
          "execution_count": 30
        }
      ]
    },
    {
      "cell_type": "code",
      "source": [
        "df_filtered = username_df.filter(username_df[\"Identifier\"] > 1002)\n",
        "df_filtered.show()"
      ],
      "metadata": {
        "colab": {
          "base_uri": "https://localhost:8080/"
        },
        "id": "vYgJYVT6wHZ2",
        "outputId": "70f1a169-e39d-4093-8a12-2dba709c9ea0"
      },
      "execution_count": 34,
      "outputs": [
        {
          "output_type": "stream",
          "name": "stdout",
          "text": [
            "+---------------+----------+----------+---------+\n",
            "|       Username|Identifier|First Name|Last Name|\n",
            "+---------------+----------+----------+---------+\n",
            "|    ironlord982|      1003|     Linux| Cromwell|\n",
            "|  skyrimlord023|      1004| Cassandra|    Ramos|\n",
            "|wannabefortnite|      1005|    Joseph|   Pandas|\n",
            "|    smithSummer|      1006|    Tensor|     Flow|\n",
            "+---------------+----------+----------+---------+\n",
            "\n"
          ]
        }
      ]
    },
    {
      "cell_type": "code",
      "source": [
        "from pyspark.sql.functions import avg\n",
        "username_df.groupBy(\"Username\").agg(avg(\"Identifier\")).show()\n"
      ],
      "metadata": {
        "colab": {
          "base_uri": "https://localhost:8080/"
        },
        "id": "o2SEckMyw4Hs",
        "outputId": "549373ce-f704-4b9b-d843-bf290a81aa8a"
      },
      "execution_count": 35,
      "outputs": [
        {
          "output_type": "stream",
          "name": "stdout",
          "text": [
            "+---------------+---------------+\n",
            "|       Username|avg(Identifier)|\n",
            "+---------------+---------------+\n",
            "|wannabefortnite|         1005.0|\n",
            "|  skyrimlord023|         1004.0|\n",
            "|    ironlord982|         1003.0|\n",
            "|  graylooker123|         1002.0|\n",
            "|    smithSummer|         1006.0|\n",
            "+---------------+---------------+\n",
            "\n"
          ]
        }
      ]
    },
    {
      "cell_type": "markdown",
      "source": [
        "## Supplementary Activity"
      ],
      "metadata": {
        "id": "zXgURc2Rxm7z"
      }
    },
    {
      "cell_type": "markdown",
      "source": [
        "### 1. Create a DataFrame"
      ],
      "metadata": {
        "id": "eAAHziPdyMSe"
      }
    },
    {
      "cell_type": "code",
      "source": [
        "from datetime import datetime, date\n",
        "import pandas as pd\n",
        "from pyspark.sql import Row\n",
        "\n",
        "starting_df = my_spark.createDataFrame([\n",
        "    (1, 2., 'string1', date(2025, 1, 1), datetime(2004, 1, 1, 12, 0)),\n",
        "    (2, 3., 'string2', date(2026, 2, 1), datetime(2005, 1, 2, 9, 0)),\n",
        "    (3, 4., 'string3', date(2027, 3, 1), datetime(2006, 1, 3, 8, 0))\n",
        "], schema='a long, b double, c string, d date, e timestamp')\n",
        "\n",
        "starting_df.show()"
      ],
      "metadata": {
        "colab": {
          "base_uri": "https://localhost:8080/"
        },
        "id": "KwGBwL3gyPbF",
        "outputId": "f64b7a5a-54a0-490b-ec14-e5c322e658d1"
      },
      "execution_count": 43,
      "outputs": [
        {
          "output_type": "stream",
          "name": "stdout",
          "text": [
            "+---+---+-------+----------+-------------------+\n",
            "|  a|  b|      c|         d|                  e|\n",
            "+---+---+-------+----------+-------------------+\n",
            "|  1|2.0|string1|2025-01-01|2004-01-01 12:00:00|\n",
            "|  2|3.0|string2|2026-02-01|2005-01-02 09:00:00|\n",
            "|  3|4.0|string3|2027-03-01|2006-01-03 08:00:00|\n",
            "+---+---+-------+----------+-------------------+\n",
            "\n"
          ]
        }
      ]
    },
    {
      "cell_type": "markdown",
      "source": [
        "### 3. Load the Employee_salaries.csv"
      ],
      "metadata": {
        "id": "BvrG5b5yzoT8"
      }
    },
    {
      "cell_type": "code",
      "source": [
        "path = \"/content/Employee_Salaries.csv\"\n",
        "\n",
        "employees_df = my_spark.read.csv(path,\n",
        "                                header = True,\n",
        "                                inferSchema = True)\n",
        "employees_df.show(25)\n"
      ],
      "metadata": {
        "colab": {
          "base_uri": "https://localhost:8080/"
        },
        "id": "uuefz9qbxsNq",
        "outputId": "2b327731-c46b-488d-f25f-b1bdc95011fc"
      },
      "execution_count": 45,
      "outputs": [
        {
          "output_type": "stream",
          "name": "stdout",
          "text": [
            "+----------+--------------------+--------------------+------+-----------+------------+-------------+-----+\n",
            "|Department|     Department_Name|            Division|Gender|Base_Salary|Overtime_Pay|Longevity_Pay|Grade|\n",
            "+----------+--------------------+--------------------+------+-----------+------------+-------------+-----+\n",
            "|       ABS|Alcohol Beverage ...|ABS 85 Administra...|     M|   175873.0|         0.0|          0.0|   M2|\n",
            "|       ABS|Alcohol Beverage ...|ABS 85 Administra...|     M|  145613.36|         0.0|          0.0|   M3|\n",
            "|       ABS|Alcohol Beverage ...|ABS 85 Administra...|     F|   136970.0|         0.0|          0.0|   M3|\n",
            "|       ABS|Alcohol Beverage ...|ABS 85 Administra...|     F|  89432.694|         0.0|       2490.0|   21|\n",
            "|       ABS|Alcohol Beverage ...|ABS 85 Administra...|     F|    78947.0|      456.68|       6257.7|   16|\n",
            "|       ABS|Alcohol Beverage ...|ABS 85 Administra...|     F|    98228.0|       518.8|       998.28|   21|\n",
            "|       ABS|Alcohol Beverage ...|ABS 85 Administra...|     F| 82405.3864|       549.2|          0.0|   18|\n",
            "|       ABS|Alcohol Beverage ...|ABS 85 Administra...|     M|    93986.0|     1187.06|      2452.94|  N20|\n",
            "|       ABS|Alcohol Beverage ...|ABS 85 Administra...|     F|  149464.15|         0.0|      9021.82|   18|\n",
            "|       ABS|Alcohol Beverage ...|ABS 85 Administra...|     M|   117424.0|         0.0|          0.0|  N25|\n",
            "|       ABS|Alcohol Beverage ...|ABS 85 Administra...|     F|   82808.28|    11870.82|          0.0|   21|\n",
            "|       ABS|Alcohol Beverage ...|ABS 85 Administra...|     M| 65961.8438|      2092.7|          0.0|   13|\n",
            "|       ABS|Alcohol Beverage ...|ABS 85 Administra...|     M|   59288.86|     1013.01|          0.0|   13|\n",
            "|       ABS|Alcohol Beverage ...|ABS 85 Administra...|     M|  139407.15|         0.0|          0.0|   M3|\n",
            "|       ABS|Alcohol Beverage ...|ABS 85 Administra...|     F|   128531.0|         0.0|          0.0|  N27|\n",
            "|       ABS|Alcohol Beverage ...|ABS 85 Administra...|     M|  152632.07|         0.0|          0.0|   M3|\n",
            "|       ABS|Alcohol Beverage ...|ABS 85 Administra...|     F| 73955.2951|     3509.43|          0.0|   16|\n",
            "|       ABS|Alcohol Beverage ...|ABS 85 Administra...|     M|   117424.0|         0.0|          0.0|  N25|\n",
            "|       ABS|Alcohol Beverage ...|ABS 85 Administra...|     M|   117424.0|         0.0|          0.0|  N25|\n",
            "|       ABS|Alcohol Beverage ...|ABS 85 Administra...|     F| 110572.155|         0.0|          0.0|  N26|\n",
            "|       ABS|Alcohol Beverage ...|ABS 85 Beer Deliv...|     M|    61240.0|     5294.68|       995.18|   10|\n",
            "|       ABS|Alcohol Beverage ...|ABS 85 Beer Deliv...|     M|    61240.0|       92.35|       4827.4|   10|\n",
            "|       ABS|Alcohol Beverage ...|ABS 85 Beer Deliv...|     M|    86103.0|    23917.44|      3665.64|  N18|\n",
            "|       ABS|Alcohol Beverage ...|ABS 85 Beer Deliv...|     M|    61240.0|     9580.78|        459.3|   10|\n",
            "|       ABS|Alcohol Beverage ...|ABS 85 Beer Deliv...|     M|    86103.0|     3165.46|      3665.65|  N18|\n",
            "+----------+--------------------+--------------------+------+-----------+------------+-------------+-----+\n",
            "only showing top 25 rows\n",
            "\n"
          ]
        }
      ]
    },
    {
      "cell_type": "markdown",
      "source": [
        "### 4. Filter the Employees based on their gender"
      ],
      "metadata": {
        "id": "U7_iEV06ynY8"
      }
    },
    {
      "cell_type": "code",
      "source": [
        "from pyspark.sql.functions import count\n",
        "\n",
        "employees_df.groupBy(\"Gender\").agg(count(\"Gender\").alias(\"count\")).show()"
      ],
      "metadata": {
        "colab": {
          "base_uri": "https://localhost:8080/"
        },
        "id": "Gu5A3O831DHM",
        "outputId": "1cbe0b5e-a235-4eaf-c91b-0a0969f732fb"
      },
      "execution_count": 48,
      "outputs": [
        {
          "output_type": "stream",
          "name": "stdout",
          "text": [
            "+------+-----+\n",
            "|Gender|count|\n",
            "+------+-----+\n",
            "|     F| 4362|\n",
            "|     M| 5929|\n",
            "+------+-----+\n",
            "\n"
          ]
        }
      ]
    },
    {
      "cell_type": "code",
      "source": [
        "# For Gender == F\n",
        "employees_F = employees_df.filter(employees_df.Gender == \"F\")\n",
        "employees_F.show()"
      ],
      "metadata": {
        "colab": {
          "base_uri": "https://localhost:8080/"
        },
        "id": "TI341fyo1RDr",
        "outputId": "b6c244ba-f8fd-46f7-e226-dcb77902209e"
      },
      "execution_count": 51,
      "outputs": [
        {
          "output_type": "stream",
          "name": "stdout",
          "text": [
            "+----------+--------------------+--------------------+------+-----------+------------+-------------+-----+\n",
            "|Department|     Department_Name|            Division|Gender|Base_Salary|Overtime_Pay|Longevity_Pay|Grade|\n",
            "+----------+--------------------+--------------------+------+-----------+------------+-------------+-----+\n",
            "|       ABS|Alcohol Beverage ...|ABS 85 Administra...|     F|   136970.0|         0.0|          0.0|   M3|\n",
            "|       ABS|Alcohol Beverage ...|ABS 85 Administra...|     F|  89432.694|         0.0|       2490.0|   21|\n",
            "|       ABS|Alcohol Beverage ...|ABS 85 Administra...|     F|    78947.0|      456.68|       6257.7|   16|\n",
            "|       ABS|Alcohol Beverage ...|ABS 85 Administra...|     F|    98228.0|       518.8|       998.28|   21|\n",
            "|       ABS|Alcohol Beverage ...|ABS 85 Administra...|     F| 82405.3864|       549.2|          0.0|   18|\n",
            "|       ABS|Alcohol Beverage ...|ABS 85 Administra...|     F|  149464.15|         0.0|      9021.82|   18|\n",
            "|       ABS|Alcohol Beverage ...|ABS 85 Administra...|     F|   82808.28|    11870.82|          0.0|   21|\n",
            "|       ABS|Alcohol Beverage ...|ABS 85 Administra...|     F|   128531.0|         0.0|          0.0|  N27|\n",
            "|       ABS|Alcohol Beverage ...|ABS 85 Administra...|     F| 73955.2951|     3509.43|          0.0|   16|\n",
            "|       ABS|Alcohol Beverage ...|ABS 85 Administra...|     F| 110572.155|         0.0|          0.0|  N26|\n",
            "|       ABS|Alcohol Beverage ...| ABS 85 Beer Loading|     F|    76668.0|     3226.55|          0.0|   12|\n",
            "|       ABS|Alcohol Beverage ...|ABS 85 Beer Wareh...|     F|  56922.265|     6156.95|          0.0|   13|\n",
            "|       ABS|Alcohol Beverage ...|ABS 85 Licensure,...|     F|  166140.03|         0.0|          0.0|   M2|\n",
            "|       ABS|Alcohol Beverage ...|ABS 85 Licensure,...|     F| 99335.0745|     1540.34|          0.0|   22|\n",
            "|       ABS|Alcohol Beverage ...|ABS 85 Licensure,...|     F|  94334.247|         0.0|          0.0|  N25|\n",
            "|       ABS|Alcohol Beverage ...|ABS 85 Licensure,...|     F|    98349.0|         0.0|          0.0|   22|\n",
            "|       ABS|Alcohol Beverage ...|ABS 85 Licensure,...|     F|    64633.0|         0.0|          0.0|   16|\n",
            "|       ABS|Alcohol Beverage ...|ABS 85 Licensure,...|     F|    54583.0|         0.0|          0.0|   18|\n",
            "|       ABS|Alcohol Beverage ...| ABS 85 Burtonsville|     F| 47447.9101|     1302.22|          0.0|   12|\n",
            "|       ABS|Alcohol Beverage ...| ABS 85 Burtonsville|     F| 58239.9985|      536.86|          0.0|   14|\n",
            "+----------+--------------------+--------------------+------+-----------+------------+-------------+-----+\n",
            "only showing top 20 rows\n",
            "\n"
          ]
        }
      ]
    },
    {
      "cell_type": "code",
      "source": [
        "# For Gender == M\n",
        "employees_M = employees_df.filter(employees_df.Gender == \"M\")\n",
        "employees_M.show()"
      ],
      "metadata": {
        "colab": {
          "base_uri": "https://localhost:8080/"
        },
        "id": "ROgqtslD2rvm",
        "outputId": "57556b0d-75da-46b7-e3d4-671f7a9adb95"
      },
      "execution_count": 53,
      "outputs": [
        {
          "output_type": "stream",
          "name": "stdout",
          "text": [
            "+----------+--------------------+--------------------+------+-----------+------------+-------------+-----+\n",
            "|Department|     Department_Name|            Division|Gender|Base_Salary|Overtime_Pay|Longevity_Pay|Grade|\n",
            "+----------+--------------------+--------------------+------+-----------+------------+-------------+-----+\n",
            "|       ABS|Alcohol Beverage ...|ABS 85 Administra...|     M|   175873.0|         0.0|          0.0|   M2|\n",
            "|       ABS|Alcohol Beverage ...|ABS 85 Administra...|     M|  145613.36|         0.0|          0.0|   M3|\n",
            "|       ABS|Alcohol Beverage ...|ABS 85 Administra...|     M|    93986.0|     1187.06|      2452.94|  N20|\n",
            "|       ABS|Alcohol Beverage ...|ABS 85 Administra...|     M|   117424.0|         0.0|          0.0|  N25|\n",
            "|       ABS|Alcohol Beverage ...|ABS 85 Administra...|     M| 65961.8438|      2092.7|          0.0|   13|\n",
            "|       ABS|Alcohol Beverage ...|ABS 85 Administra...|     M|   59288.86|     1013.01|          0.0|   13|\n",
            "|       ABS|Alcohol Beverage ...|ABS 85 Administra...|     M|  139407.15|         0.0|          0.0|   M3|\n",
            "|       ABS|Alcohol Beverage ...|ABS 85 Administra...|     M|  152632.07|         0.0|          0.0|   M3|\n",
            "|       ABS|Alcohol Beverage ...|ABS 85 Administra...|     M|   117424.0|         0.0|          0.0|  N25|\n",
            "|       ABS|Alcohol Beverage ...|ABS 85 Administra...|     M|   117424.0|         0.0|          0.0|  N25|\n",
            "|       ABS|Alcohol Beverage ...|ABS 85 Beer Deliv...|     M|    61240.0|     5294.68|       995.18|   10|\n",
            "|       ABS|Alcohol Beverage ...|ABS 85 Beer Deliv...|     M|    61240.0|       92.35|       4827.4|   10|\n",
            "|       ABS|Alcohol Beverage ...|ABS 85 Beer Deliv...|     M|    86103.0|    23917.44|      3665.64|  N18|\n",
            "|       ABS|Alcohol Beverage ...|ABS 85 Beer Deliv...|     M|    61240.0|     9580.78|        459.3|   10|\n",
            "|       ABS|Alcohol Beverage ...|ABS 85 Beer Deliv...|     M|    86103.0|     3165.46|      3665.65|  N18|\n",
            "|       ABS|Alcohol Beverage ...|ABS 85 Beer Deliv...|     M| 75086.4937|     6857.37|          0.0|   15|\n",
            "|       ABS|Alcohol Beverage ...|ABS 85 Beer Deliv...|     M| 81931.2453|    24672.86|          0.0|  N18|\n",
            "|       ABS|Alcohol Beverage ...|ABS 85 Beer Deliv...|     M|    75621.0|     2065.26|      3471.32|   15|\n",
            "|       ABS|Alcohol Beverage ...|ABS 85 Beer Deliv...|     M|  75621.002|     4453.91|      3572.85|   15|\n",
            "|       ABS|Alcohol Beverage ...|ABS 85 Beer Deliv...|     M|    75621.0|    10989.68|      3436.83|   15|\n",
            "+----------+--------------------+--------------------+------+-----------+------------+-------------+-----+\n",
            "only showing top 20 rows\n",
            "\n"
          ]
        }
      ]
    },
    {
      "cell_type": "markdown",
      "source": [
        "### 5. Group the Employees based on their Gender and Average their Salaries"
      ],
      "metadata": {
        "id": "iXTNwRQs3Abc"
      }
    },
    {
      "cell_type": "code",
      "source": [
        "from pyspark.sql.functions import avg\n",
        "employees_df.groupBy(\"Gender\").agg(avg(\"Base_Salary\")).show()"
      ],
      "metadata": {
        "colab": {
          "base_uri": "https://localhost:8080/"
        },
        "id": "Ml1U6j2v4FVN",
        "outputId": "3b88ba82-7a3c-4edf-fd05-3ed2b5f015d6"
      },
      "execution_count": 54,
      "outputs": [
        {
          "output_type": "stream",
          "name": "stdout",
          "text": [
            "+------+-----------------+\n",
            "|Gender| avg(Base_Salary)|\n",
            "+------+-----------------+\n",
            "|     F|87497.50279041701|\n",
            "|     M|92382.92975236966|\n",
            "+------+-----------------+\n",
            "\n"
          ]
        }
      ]
    },
    {
      "cell_type": "markdown",
      "source": [
        "### 6. Compute annual salary for each employee."
      ],
      "metadata": {
        "id": "ZfFW3Rpf46Eo"
      }
    },
    {
      "cell_type": "code",
      "source": [
        "with_annual_salaries = employees_df.withColumn(\"Annual_Salary\", employees_df[\"Base_Salary\"] * 12)\n",
        "with_annual_salaries.show()"
      ],
      "metadata": {
        "colab": {
          "base_uri": "https://localhost:8080/"
        },
        "id": "Jbspl_vd49lY",
        "outputId": "5b6d22af-7f1c-4773-afd7-7dd44a9787ba"
      },
      "execution_count": 57,
      "outputs": [
        {
          "output_type": "stream",
          "name": "stdout",
          "text": [
            "+----------+--------------------+--------------------+------+-----------+------------+-------------+-----+------------------+\n",
            "|Department|     Department_Name|            Division|Gender|Base_Salary|Overtime_Pay|Longevity_Pay|Grade|     Annual_Salary|\n",
            "+----------+--------------------+--------------------+------+-----------+------------+-------------+-----+------------------+\n",
            "|       ABS|Alcohol Beverage ...|ABS 85 Administra...|     M|   175873.0|         0.0|          0.0|   M2|         2110476.0|\n",
            "|       ABS|Alcohol Beverage ...|ABS 85 Administra...|     M|  145613.36|         0.0|          0.0|   M3|1747360.3199999998|\n",
            "|       ABS|Alcohol Beverage ...|ABS 85 Administra...|     F|   136970.0|         0.0|          0.0|   M3|         1643640.0|\n",
            "|       ABS|Alcohol Beverage ...|ABS 85 Administra...|     F|  89432.694|         0.0|       2490.0|   21|       1073192.328|\n",
            "|       ABS|Alcohol Beverage ...|ABS 85 Administra...|     F|    78947.0|      456.68|       6257.7|   16|          947364.0|\n",
            "|       ABS|Alcohol Beverage ...|ABS 85 Administra...|     F|    98228.0|       518.8|       998.28|   21|         1178736.0|\n",
            "|       ABS|Alcohol Beverage ...|ABS 85 Administra...|     F| 82405.3864|       549.2|          0.0|   18|       988864.6368|\n",
            "|       ABS|Alcohol Beverage ...|ABS 85 Administra...|     M|    93986.0|     1187.06|      2452.94|  N20|         1127832.0|\n",
            "|       ABS|Alcohol Beverage ...|ABS 85 Administra...|     F|  149464.15|         0.0|      9021.82|   18|1793569.7999999998|\n",
            "|       ABS|Alcohol Beverage ...|ABS 85 Administra...|     M|   117424.0|         0.0|          0.0|  N25|         1409088.0|\n",
            "|       ABS|Alcohol Beverage ...|ABS 85 Administra...|     F|   82808.28|    11870.82|          0.0|   21|         993699.36|\n",
            "|       ABS|Alcohol Beverage ...|ABS 85 Administra...|     M| 65961.8438|      2092.7|          0.0|   13|       791542.1256|\n",
            "|       ABS|Alcohol Beverage ...|ABS 85 Administra...|     M|   59288.86|     1013.01|          0.0|   13| 711466.3200000001|\n",
            "|       ABS|Alcohol Beverage ...|ABS 85 Administra...|     M|  139407.15|         0.0|          0.0|   M3|1672885.7999999998|\n",
            "|       ABS|Alcohol Beverage ...|ABS 85 Administra...|     F|   128531.0|         0.0|          0.0|  N27|         1542372.0|\n",
            "|       ABS|Alcohol Beverage ...|ABS 85 Administra...|     M|  152632.07|         0.0|          0.0|   M3|        1831584.84|\n",
            "|       ABS|Alcohol Beverage ...|ABS 85 Administra...|     F| 73955.2951|     3509.43|          0.0|   16| 887463.5412000001|\n",
            "|       ABS|Alcohol Beverage ...|ABS 85 Administra...|     M|   117424.0|         0.0|          0.0|  N25|         1409088.0|\n",
            "|       ABS|Alcohol Beverage ...|ABS 85 Administra...|     M|   117424.0|         0.0|          0.0|  N25|         1409088.0|\n",
            "|       ABS|Alcohol Beverage ...|ABS 85 Administra...|     F| 110572.155|         0.0|          0.0|  N26|1326865.8599999999|\n",
            "+----------+--------------------+--------------------+------+-----------+------------+-------------+-----+------------------+\n",
            "only showing top 20 rows\n",
            "\n"
          ]
        }
      ]
    },
    {
      "cell_type": "markdown",
      "source": [
        "### 7. Sort the result and display the highest average."
      ],
      "metadata": {
        "id": "59nmgHxf4-GU"
      }
    },
    {
      "cell_type": "code",
      "source": [
        "with_annual_salaries.sort(\"Annual_Salary\", ascending=False).show(1)"
      ],
      "metadata": {
        "colab": {
          "base_uri": "https://localhost:8080/"
        },
        "id": "jF-xS53s5ri9",
        "outputId": "f654740e-d597-42d9-c7e3-14bc7788ff48"
      },
      "execution_count": 66,
      "outputs": [
        {
          "output_type": "stream",
          "name": "stdout",
          "text": [
            "+----------+--------------------+--------------------+------+-----------+------------+-------------+-----+-------------+\n",
            "|Department|     Department_Name|            Division|Gender|Base_Salary|Overtime_Pay|Longevity_Pay|Grade|Annual_Salary|\n",
            "+----------+--------------------+--------------------+------+-----------+------------+-------------+-----+-------------+\n",
            "|       CEX|Offices of the Co...|CEX 15 Chief Admi...|     M|   292000.0|         0.0|          0.0|  EX0|    3504000.0|\n",
            "+----------+--------------------+--------------------+------+-----------+------------+-------------+-----+-------------+\n",
            "only showing top 1 row\n",
            "\n"
          ]
        }
      ]
    },
    {
      "cell_type": "code",
      "source": [
        "with_annual_salaries.sort(\"Annual_Salary\", ascending=False).show(10)"
      ],
      "metadata": {
        "colab": {
          "base_uri": "https://localhost:8080/"
        },
        "id": "sHHf2miE7yxr",
        "outputId": "a8e4748a-b3f6-4031-9285-cc902d3ea4e8"
      },
      "execution_count": 67,
      "outputs": [
        {
          "output_type": "stream",
          "name": "stdout",
          "text": [
            "+----------+--------------------+--------------------+------+-----------+------------+-------------+-----+-------------+\n",
            "|Department|     Department_Name|            Division|Gender|Base_Salary|Overtime_Pay|Longevity_Pay|Grade|Annual_Salary|\n",
            "+----------+--------------------+--------------------+------+-----------+------------+-------------+-----+-------------+\n",
            "|       CEX|Offices of the Co...|CEX 15 Chief Admi...|     M|   292000.0|         0.0|          0.0|  EX0|    3504000.0|\n",
            "|       CAT|County Attorney's...|CAT 30 County Att...|     M|   258000.0|         0.0|          0.0|  EX1|    3096000.0|\n",
            "|       POL|Department of Police|POL 47 HQ Police ...|     M|   258000.0|         0.0|          0.0|  EX1|    3096000.0|\n",
            "|       CCL|      County Council|CCL 01 Council Ce...|     F|  246162.47|         0.0|          0.0| NULL|   2953949.64|\n",
            "|       DGS|Department of Gen...|     DGS 36 Director|     M|   246000.0|         0.0|          0.0|  EX1|    2952000.0|\n",
            "|       DOT|Department of Tra...|     DOT 50 Director|     M|   244000.0|         0.0|          0.0|  EX1|    2928000.0|\n",
            "|       HHS|Department of Hea...|HHS 60 Director's...|     M|   240000.0|         0.0|          0.0|  EX1|    2880000.0|\n",
            "|       ABS|Alcohol Beverage ...|     ABS 85 Director|     F|   236000.0|         0.0|          0.0|  EX1|    2832000.0|\n",
            "|       FIN|Department of Fin...|     FIN 32 Director|     M|   236000.0|         0.0|          0.0|  EX1|    2832000.0|\n",
            "|       OMB|Office of Managem...|OMB 31 Office of ...|     F|   236000.0|         0.0|          0.0|  EX1|    2832000.0|\n",
            "+----------+--------------------+--------------------+------+-----------+------------+-------------+-----+-------------+\n",
            "only showing top 10 rows\n",
            "\n"
          ]
        }
      ]
    },
    {
      "cell_type": "code",
      "source": [
        "from pyspark.sql.functions import avg\n",
        "with_annual_salaries.groupBy(\"Gender\").agg(avg(\"Annual_Salary\")).show()"
      ],
      "metadata": {
        "colab": {
          "base_uri": "https://localhost:8080/"
        },
        "id": "zNwoTwVM7XEV",
        "outputId": "3f9a5a8b-2748-4b60-dde7-24f45eda13a2"
      },
      "execution_count": 65,
      "outputs": [
        {
          "output_type": "stream",
          "name": "stdout",
          "text": [
            "+------+------------------+\n",
            "|Gender|avg(Annual_Salary)|\n",
            "+------+------------------+\n",
            "|     F|1049970.0334850072|\n",
            "|     M|1108595.1570284364|\n",
            "+------+------------------+\n",
            "\n"
          ]
        }
      ]
    },
    {
      "cell_type": "markdown",
      "source": [],
      "metadata": {
        "id": "WfhGAVTx4-Bl"
      }
    }
  ]
}